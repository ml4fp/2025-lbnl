{
 "cells": [
  {
   "cell_type": "markdown",
   "id": "fef47c74",
   "metadata": {},
   "source": [
    "# Tutorial: part I"
   ]
  }
 ],
 "metadata": {
  "language_info": {
   "name": "python"
  }
 },
 "nbformat": 4,
 "nbformat_minor": 5
}
